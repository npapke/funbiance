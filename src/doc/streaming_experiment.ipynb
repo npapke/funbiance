{
 "cells": [
  {
   "cell_type": "code",
   "execution_count": null,
   "metadata": {},
   "outputs": [],
   "source": [
    "%pip install -U hue-entertainment-pykit"
   ]
  },
  {
   "cell_type": "markdown",
   "metadata": {},
   "source": [
    "Experiment with the entertainment streaming library for Hue"
   ]
  },
  {
   "cell_type": "markdown",
   "metadata": {},
   "source": [
    "# Enroll bridge\n",
    "\n",
    "Code will enroll when no username / clientkey are available."
   ]
  },
  {
   "cell_type": "code",
   "execution_count": 15,
   "metadata": {},
   "outputs": [
    {
     "name": "stdout",
     "output_type": "stream",
     "text": [
      "Using existing username and client key\n"
     ]
    }
   ],
   "source": [
    "from ipaddress import ip_address\n",
    "import requests\n",
    "import urllib3\n",
    "import json\n",
    "import socket\n",
    "\n",
    "# Hue Bridges have self-signed certs\n",
    "urllib3.disable_warnings()\n",
    "\n",
    "\n",
    "bridge_address = \"philips-hue\"\n",
    "bridge_username = \"vdjr8O4YGxVFALSPoyL-mMH09CLvQfWOsvuil38H\"\n",
    "bridge_clientkey = \"1913F4CD82BF0834C8BC81B4074AB2BD\"\n",
    "\n",
    "while not bridge_username or not bridge_clientkey:\n",
    "    # enrol per https://developers.meethue.com/develop/hue-entertainment/hue-entertainment-api/\n",
    "    # get the username and client key from the Hue Bridge\n",
    "    # Note: First request will always fail but puts bridge in a mode where the button can be pressed\n",
    "    print(f\"Enrolling at {bridge_address}.  Press button on bridge.\")\n",
    "    response: requests.Response = requests.post(\n",
    "        \"https://\" + bridge_address + \"/api\", \n",
    "        data=json.dumps({\n",
    "            \"devicetype\": f\"funbiance#{socket.gethostname()}\",\n",
    "            \"generateclientkey\": True\n",
    "        }),\n",
    "        verify=False)\n",
    "    print(f\"Enrollment: {response.json()}\")\n",
    "    \n",
    "    if response.status_code == 200:\n",
    "        data = response.json()\n",
    "        if \"success\" in data[0]:\n",
    "            bridge_username = data[0][\"success\"][\"username\"]\n",
    "            bridge_clientkey = data[0][\"success\"][\"clientkey\"]\n",
    "        \n",
    "else:\n",
    "    print(\"Using existing username and client key\")\n"
   ]
  },
  {
   "cell_type": "markdown",
   "metadata": {},
   "source": [
    "# Use REST API to gather info"
   ]
  },
  {
   "cell_type": "code",
   "execution_count": 24,
   "metadata": {},
   "outputs": [
    {
     "name": "stdout",
     "output_type": "stream",
     "text": [
      "{'errors': [], 'data': [{'id': '16d639ef-f8f6-4d56-b1dc-651b1c31af4e', 'owner': {'rid': '9ac3ae4b-c411-4e98-8a87-d2332926b918', 'rtype': 'device'}, 'bridge_id': 'ecb5fafffe172def', 'time_zone': {'time_zone': 'America/Vancouver'}, 'type': 'bridge'}]}\n",
      "{'name': 'Hue Bridge', 'datastoreversion': '172', 'swversion': '1967054020', 'apiversion': '1.67.0', 'mac': 'ec:b5:fa:17:2d:ef', 'bridgeid': 'ECB5FAFFFE172DEF', 'factorynew': False, 'replacesbridgeid': None, 'modelid': 'BSB002', 'starterkitid': ''}\n",
      "Bridge params: {\n",
      "    \"username\": \"vdjr8O4YGxVFALSPoyL-mMH09CLvQfWOsvuil38H\",\n",
      "    \"clientkey\": \"1913F4CD82BF0834C8BC81B4074AB2BD\",\n",
      "    \"ip_address\": \"172.16.0.4\",\n",
      "    \"identification\": \"16d639ef-f8f6-4d56-b1dc-651b1c31af4e\",\n",
      "    \"rid\": \"9ac3ae4b-c411-4e98-8a87-d2332926b918\",\n",
      "    \"swversion\": 1967054020,\n",
      "    \"name\": \"Hue Bridge\",\n",
      "    \"hue_app_id\": \"235603fa-56ea-45c1-9def-b1acb2f04145\"\n",
      "}\n"
     ]
    }
   ],
   "source": [
    "\n",
    "bridge_params: dict[str, str] = {\n",
    "    \"username\": bridge_username,\n",
    "    \"clientkey\": bridge_clientkey\n",
    "}\n",
    "\n",
    "# hue_entertainment_pykit wants an IP address not a hostname\n",
    "try:\n",
    "    bridge_params[\"ip_address\"] = socket.gethostbyname(bridge_address)\n",
    "except:\n",
    "    # Perhaps we already have an IP address?\n",
    "    bridge_params[\"ip_address\"] = bridge_address\n",
    "\n",
    "# Define the URL and headers\n",
    "headers: dict[str, str] = {\n",
    "    \"hue-application-key\": bridge_username\n",
    "}\n",
    "\n",
    "# The \"bridge\" resource has some of the necessary information.\n",
    "response: requests.Response = requests.get(f\"https://{bridge_address}/clip/v2/resource/bridge\", headers=headers, verify=False)\n",
    "\n",
    "# Check if request was successful\n",
    "if response.status_code == 200:\n",
    "    # Parse JSON response\n",
    "    data = response.json()\n",
    "    print(data)\n",
    "    \n",
    "    bridge_params[\"identification\"] = data[\"data\"][0][\"id\"]\n",
    "    bridge_params[\"rid\"] = data[\"data\"][0][\"owner\"][\"rid\"]\n",
    "    \n",
    "else:\n",
    "    print(f\"Request failed with status code: {response.status_code}\")\n",
    "    print(response.text)\n",
    "    \n",
    "response: requests.Response = requests.get(f\"https://{bridge_address}/api/config\", headers=headers, verify=False)\n",
    "\n",
    "# Check if request was successful\n",
    "if response.status_code == 200:\n",
    "    # Parse JSON response\n",
    "    data = response.json()\n",
    "    print(data)\n",
    "    \n",
    "    bridge_params[\"swversion\"] = int(data[\"swversion\"])\n",
    "    bridge_params[\"name\"] = data[\"name\"]\n",
    "    \n",
    "else:\n",
    "    print(f\"Request failed with status code: {response.status_code}\")\n",
    "    print(response.text)\n",
    "    \n",
    "    \n",
    "response: requests.Response = requests.get(f\"https://{bridge_address}/auth/v1\", headers=headers, verify=False)\n",
    "\n",
    "# Check if request was successful\n",
    "if response.status_code == 200:\n",
    "    print(response.headers)\n",
    "    bridge_params[\"hue_app_id\"] = response.headers[\"hue-application-id\"]\n",
    "    \n",
    "else:\n",
    "    print(f\"Request failed with status code: {response.status_code}\")\n",
    "    print(response.text)\n",
    "    \n",
    "print(\"Bridge params:\", json.dumps(bridge_params, indent=4))"
   ]
  },
  {
   "cell_type": "code",
   "execution_count": 34,
   "metadata": {},
   "outputs": [
    {
     "name": "stdout",
     "output_type": "stream",
     "text": [
      "Entertainment configurations: 4fb05ad4-adb2-4a2e-b47f-41b1ca19bcce = TV Area\n",
      "\tchannel: 0 position=Position(x=0.93997, y=1.0, z=-0.00018)\n",
      "\tchannel: 1 position=Position(x=-1.0, y=1.0, z=-0.42379)\n",
      "\tchannel: 2 position=Position(x=-0.05998, y=1.0, z=0.56998)\n",
      "\tchannel: 3 position=Position(x=-0.54, y=1.0, z=-0.62708)\n",
      "\tchannel: 4 position=Position(x=0.35705, y=1.0, z=-0.56941)\n",
      "Entertainment configurations: 9c611527-6163-4470-a385-2968ae9970bc = Office Area\n",
      "\tchannel: 0 position=Position(x=-0.05172, y=1.0, z=-1.0)\n",
      "\tchannel: 1 position=Position(x=-1.0, y=1.0, z=-0.84327)\n"
     ]
    }
   ],
   "source": [
    "import time\n",
    "from hue_entertainment_pykit import create_bridge, Entertainment, Streaming, Bridge\n",
    "\n",
    "# Set up the Bridge instance with the all needed configuration\n",
    "# bridge = create_bridge(\n",
    "    # identification=\"4abb74df-5b6b-410e-819b-bf4448355dff\",\n",
    "    # rid=\"d476df48-83ad-4430-a104-53c30b46b4d0\",\n",
    "    # ip_address=\"192.168.1.100\",\n",
    "    # swversion=1962097030,\n",
    "    # username=\"8nuTIcK2nOf5oi88-5zPvV1YCt0wTHZIGG8MwXpu\",\n",
    "    # hue_app_id=\"94530efc-933a-4f7c-97e5-ccf1a9fc79af\",\n",
    "    # clientkey=\"B42753E1E1605A1AB90E1B6A0ECF9C51\",\n",
    "    # name=\"1st Bridge\"\n",
    "# )\n",
    "bridge: Bridge = create_bridge(**bridge_params)\n",
    "\n",
    "# Set up the Entertainment API service\n",
    "entertainment_service = Entertainment(bridge)\n",
    "\n",
    "# Fetch all Entertainment Configurations on the Hue bridge\n",
    "entertainment_configs = entertainment_service.get_entertainment_configs()\n",
    "for id in entertainment_configs:\n",
    "    print(f\"Entertainment configurations: {id} = {entertainment_configs[id].name}\")\n",
    "    for channel in entertainment_configs[id].channels:\n",
    "        print(f\"\\tchannel: {channel.channel_id} position={channel.position}\")\n",
    "\n",
    "# Add some Entertainment Area selection logic\n",
    "# For the purposes of example I'm going to do manual selection\n",
    "entertainment_config = list(entertainment_configs.values())[1]\n",
    "\n",
    "# Set up the Streaming service\n",
    "streaming = Streaming(\n",
    "    bridge, entertainment_config, entertainment_service.get_ent_conf_repo()\n",
    ")\n",
    "\n",
    "# Start streaming messages to the bridge\n",
    "streaming.start_stream()\n",
    "\n",
    "# Set the color space to xyb or rgb\n",
    "streaming.set_color_space(\"xyb\")\n",
    "\n",
    "# Set input commands for the lights\n",
    "# First three values in the tuple are placeholders for the color RGB8(int) or (in this case) XYB(float) and the last integer is light ID inside the Entertainment API\n",
    "streaming.set_input((0.0, 0.63435, 0.3, 0))  # Light command for the first light\n",
    "streaming.set_input((0.63435, 0.0, 0.3, 1))  # Light command for the second light\n",
    "# ... Add more inputs as needed for additional lights and logic\n",
    "\n",
    "# For the purpose of example sleep is used for all inputs to process before stop_stream is called\n",
    "# Inputs are set inside Event queue meaning they're on another thread so user can interact with application continuously\n",
    "time.sleep(0.1)\n",
    "\n",
    "# Stop the streaming session\n",
    "streaming.stop_stream()"
   ]
  }
 ],
 "metadata": {
  "kernelspec": {
   "display_name": ".venv",
   "language": "python",
   "name": "python3"
  },
  "language_info": {
   "codemirror_mode": {
    "name": "ipython",
    "version": 3
   },
   "file_extension": ".py",
   "mimetype": "text/x-python",
   "name": "python",
   "nbconvert_exporter": "python",
   "pygments_lexer": "ipython3",
   "version": "3.12.7"
  }
 },
 "nbformat": 4,
 "nbformat_minor": 2
}
